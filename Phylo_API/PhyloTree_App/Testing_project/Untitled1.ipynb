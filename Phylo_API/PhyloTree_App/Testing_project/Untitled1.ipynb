{
 "cells": [
  {
   "cell_type": "markdown",
   "id": "excessive-speed",
   "metadata": {},
   "source": [
    "## Phylogenetic Tree Test MultiFasta"
   ]
  },
  {
   "cell_type": "code",
   "execution_count": 2,
   "id": "alleged-jackson",
   "metadata": {},
   "outputs": [],
   "source": [
    "#import Biopython\n",
    "import Bio as Bio\n",
    "#import our three important packages\n",
    "from Bio import SeqIO\n",
    "from Bio import AlignIO\n",
    "from Bio import Phylo\n",
    "from Bio import Entrez\n",
    "import json"
   ]
  },
  {
   "cell_type": "code",
   "execution_count": 2,
   "id": "portable-sympathy",
   "metadata": {},
   "outputs": [],
   "source": [
    "#import the sequences we will use. These are 16s sequences from GenBank\n",
    "#example: https://www.ncbi.nlm.nih.gov/nuccore/FJ039971.1?report=genbank \n",
    "t1 = SeqIO.read(\"sequences1.fasta\", \"fasta\")\n",
    "t2 = SeqIO.read(\"sequences2.fasta\", \"fasta\")\n",
    "t3 = SeqIO.read(\"sequences3.fasta\", \"fasta\")\n",
    "t4 = SeqIO.read(\"sequences4.fasta\", \"fasta\")\n",
    "t5 = SeqIO.read(\"sequences5.fasta\", \"fasta\")\n",
    "t6 = SeqIO.read(\"sequences6.fasta\", \"fasta\")"
   ]
  },
  {
   "cell_type": "code",
   "execution_count": 3,
   "id": "functioning-plain",
   "metadata": {},
   "outputs": [
    {
     "name": "stdout",
     "output_type": "stream",
     "text": [
      "MF537044.1 Isurus oxyrinchus mitochondrion, complete genome\n"
     ]
    }
   ],
   "source": [
    "#rename each of the sequences \n",
    "#this step is not required, it will just make the tree easier to understand \n",
    "print(t3.description)\n",
    "t1.id = 'Loggerhead'\n",
    "t2.id = 'Hawksbill'\n",
    "t3.id = 'Leatherback'\n",
    "t4.id = 'Kemps Ridley'\n",
    "t5.id = 'Flatback'\n",
    "t6.id = 'Green'"
   ]
  },
  {
   "cell_type": "code",
   "execution_count": 4,
   "id": "heated-dancing",
   "metadata": {},
   "outputs": [
    {
     "data": {
      "text/plain": [
       "Seq('GCTAGTGTAGCTTAATTTAAAGTATGGCACTGAAAATGCTAAGATGAAAATTAA...GAC', SingleLetterAlphabet())"
      ]
     },
     "execution_count": 4,
     "metadata": {},
     "output_type": "execute_result"
    }
   ],
   "source": [
    "t1.seq"
   ]
  },
  {
   "cell_type": "code",
   "execution_count": 5,
   "id": "received-trace",
   "metadata": {},
   "outputs": [],
   "source": [
    "# Combine all of the individual sequences into a new file \n",
    "turtles = SeqIO.write([t1,t2,t3,t4,t5,t6], \"turtles.fasta\", \"fasta\")"
   ]
  },
  {
   "cell_type": "code",
   "execution_count": 7,
   "id": "listed-eugene",
   "metadata": {},
   "outputs": [],
   "source": [
    "# Load the turtles sequences into MUSCLE \n",
    "#https://www.ebi.ac.uk/Tools/msa/muscle/\n",
    "# Upload the new alignment file to your folder or working directory"
   ]
  },
  {
   "cell_type": "code",
   "execution_count": 6,
   "id": "composed-kuwait",
   "metadata": {},
   "outputs": [
    {
     "name": "stdout",
     "output_type": "stream",
     "text": [
      "SingleLetterAlphabet() alignment with 6 rows and 16913 columns\n",
      "GCTAGTGTAGCTTAA-TTTAAAGTATGGCACTGAAAATGCTAAG...GAC Loggerhead\n",
      "GTTAACGTAGCTTAA-TTTAAAGCATGGCACTGAAGATGCTAAG...GAT Kemps\n",
      "GCTAGTGTAGCTTAA-TTTAAAGCATGGCACTGAAGATGCTAAG...GAT Hawksbill\n",
      "GCTAGTGTAGCTTAATTTTAAAGCATGGCACTGAAGATGCTAAG...GAT Green\n",
      "GCTAGTGTAGCTTAA-TTTAAAGCATGGCACTGAAGATGCTAAG...GAT Leatherback\n",
      "GCTAGTGTAGCTTAATTTTAAAGCATGGCACTGAAGATGCTAAT...GAT Flatback\n"
     ]
    }
   ],
   "source": [
    "#===========================        TODO        =============\n",
    "#=========================== HACER MUSCLE LOCAL =============\n",
    "from Bio.Align.Applications import MuscleCommandline\n",
    "muscle_exe = r\"C:\\Users\\Jimen\\OneDrive\\Escritorio\\Testing_project\\muscle3.8.31_i86win32\"\n",
    "muscle_cline = MuscleCommandline(muscle_exe,input=\"turtles.fasta\")\n",
    "stdout, stderr = muscle_cline()\n",
    "from io import StringIO\n",
    "from Bio import AlignIO\n",
    "align = AlignIO.read(StringIO(stdout), \"fasta\")\n",
    "print(align)"
   ]
  },
  {
   "cell_type": "code",
   "execution_count": 7,
   "id": "rapid-saver",
   "metadata": {},
   "outputs": [
    {
     "data": {
      "text/plain": [
       "1"
      ]
     },
     "execution_count": 7,
     "metadata": {},
     "output_type": "execute_result"
    }
   ],
   "source": [
    "AlignIO.write(align, \"turtlesaln.aln\", \"clustal\")"
   ]
  },
  {
   "cell_type": "code",
   "execution_count": 5,
   "id": "intensive-constant",
   "metadata": {
    "collapsed": true,
    "jupyter": {
     "outputs_hidden": true
    }
   },
   "outputs": [
    {
     "name": "stdout",
     "output_type": "stream",
     "text": [
      "Help on class MuscleCommandline in module Bio.Align.Applications._Muscle:\n",
      "\n",
      "class MuscleCommandline(Bio.Application.AbstractCommandline)\n",
      " |  MuscleCommandline(cmd='muscle', **kwargs)\n",
      " |  \n",
      " |  Command line wrapper for the multiple alignment program MUSCLE.\n",
      " |  \n",
      " |  http://www.drive5.com/muscle/\n",
      " |  \n",
      " |  Notes\n",
      " |  -----\n",
      " |  Last checked against version: 3.7, briefly against 3.8\n",
      " |  \n",
      " |  References\n",
      " |  ----------\n",
      " |  Edgar, Robert C. (2004), MUSCLE: multiple sequence alignment with high\n",
      " |  accuracy and high throughput, Nucleic Acids Research 32(5), 1792-97.\n",
      " |  \n",
      " |  Edgar, R.C. (2004) MUSCLE: a multiple sequence alignment method with\n",
      " |  reduced time and space complexity. BMC Bioinformatics 5(1): 113.\n",
      " |  \n",
      " |  Examples\n",
      " |  --------\n",
      " |  >>> from Bio.Align.Applications import MuscleCommandline\n",
      " |  >>> muscle_exe = r\"C:\\Program Files\\Aligments\\muscle3.8.31_i86win32.exe\"\n",
      " |  >>> in_file = r\"C:\\My Documents\\unaligned.fasta\"\n",
      " |  >>> out_file = r\"C:\\My Documents\\aligned.fasta\"\n",
      " |  >>> muscle_cline = MuscleCommandline(muscle_exe, input=in_file, out=out_file)\n",
      " |  >>> print(muscle_cline)\n",
      " |  \"C:\\Program Files\\Aligments\\muscle3.8.31_i86win32.exe\" -in \"C:\\My Documents\\unaligned.fasta\" -out \"C:\\My Documents\\aligned.fasta\"\n",
      " |  \n",
      " |  You would typically run the command line with muscle_cline() or via\n",
      " |  the Python subprocess module, as described in the Biopython tutorial.\n",
      " |  \n",
      " |  Method resolution order:\n",
      " |      MuscleCommandline\n",
      " |      Bio.Application.AbstractCommandline\n",
      " |      builtins.object\n",
      " |  \n",
      " |  Methods defined here:\n",
      " |  \n",
      " |  __init__(self, cmd='muscle', **kwargs)\n",
      " |      Initialize the class.\n",
      " |  \n",
      " |  ----------------------------------------------------------------------\n",
      " |  Data descriptors defined here:\n",
      " |  \n",
      " |  anchors\n",
      " |      Use anchor optimisation in tree dependent refinement iterations\n",
      " |      \n",
      " |      This property controls the addition of the -anchors switch, treat this property as a boolean.\n",
      " |  \n",
      " |  anchorspacing\n",
      " |      Minimum spacing between anchor columns\n",
      " |      \n",
      " |      This controls the addition of the -anchorspacing parameter and its associated value.  Set this property to the argument value required.\n",
      " |  \n",
      " |  brenner\n",
      " |      Use Steve Brenner's root alignment method\n",
      " |      \n",
      " |      This property controls the addition of the -brenner switch, treat this property as a boolean.\n",
      " |  \n",
      " |  center\n",
      " |      Center parameter - should be negative\n",
      " |      \n",
      " |      This controls the addition of the -center parameter and its associated value.  Set this property to the argument value required.\n",
      " |  \n",
      " |  cluster\n",
      " |      Perform fast clustering of input sequences, use -tree1 to save tree\n",
      " |      \n",
      " |      This property controls the addition of the -cluster switch, treat this property as a boolean.\n",
      " |  \n",
      " |  cluster1\n",
      " |      Clustering method used in iteration 1\n",
      " |      \n",
      " |      This controls the addition of the -cluster1 parameter and its associated value.  Set this property to the argument value required.\n",
      " |  \n",
      " |  cluster2\n",
      " |      Clustering method used in iteration 2\n",
      " |      \n",
      " |      This controls the addition of the -cluster2 parameter and its associated value.  Set this property to the argument value required.\n",
      " |  \n",
      " |  clw\n",
      " |      Write output in CLUSTALW format (with a MUSCLE header)\n",
      " |      \n",
      " |      This property controls the addition of the -clw switch, treat this property as a boolean.\n",
      " |  \n",
      " |  clwout\n",
      " |      Write CLUSTALW output (with MUSCLE header) to specified filename\n",
      " |      \n",
      " |      This controls the addition of the -clwout parameter and its associated value.  Set this property to the argument value required.\n",
      " |  \n",
      " |  clwstrict\n",
      " |      Write output in CLUSTALW format with version 1.81 header\n",
      " |      \n",
      " |      This property controls the addition of the -clwstrict switch, treat this property as a boolean.\n",
      " |  \n",
      " |  clwstrictout\n",
      " |      Write CLUSTALW output (with version 1.81 header) to specified filename\n",
      " |      \n",
      " |      This controls the addition of the -clwstrictout parameter and its associated value.  Set this property to the argument value required.\n",
      " |  \n",
      " |  core\n",
      " |      Do not catch exceptions\n",
      " |      \n",
      " |      This property controls the addition of the -core switch, treat this property as a boolean.\n",
      " |  \n",
      " |  diagbreak\n",
      " |      Maximum distance between two diagonals that allows them to merge into one diagonal\n",
      " |      \n",
      " |      This controls the addition of the -diagbreak parameter and its associated value.  Set this property to the argument value required.\n",
      " |  \n",
      " |  diaglength\n",
      " |      Minimum length of diagonal\n",
      " |      \n",
      " |      This controls the addition of the -diaglength parameter and its associated value.  Set this property to the argument value required.\n",
      " |  \n",
      " |  diagmargin\n",
      " |      Discard this many positions at ends of diagonal\n",
      " |      \n",
      " |      This controls the addition of the -diagmargin parameter and its associated value.  Set this property to the argument value required.\n",
      " |  \n",
      " |  diags\n",
      " |      Find diagonals (faster for similar sequences)\n",
      " |      \n",
      " |      This property controls the addition of the -diags switch, treat this property as a boolean.\n",
      " |  \n",
      " |  dimer\n",
      " |      Use faster (slightly less accurate) dimer approximationfor the SP score\n",
      " |      \n",
      " |      This property controls the addition of the -dimer switch, treat this property as a boolean.\n",
      " |  \n",
      " |  distance1\n",
      " |      Distance measure for iteration 1\n",
      " |      \n",
      " |      This controls the addition of the -distance1 parameter and its associated value.  Set this property to the argument value required.\n",
      " |  \n",
      " |  distance2\n",
      " |      Distance measure for iteration 2\n",
      " |      \n",
      " |      This controls the addition of the -distance2 parameter and its associated value.  Set this property to the argument value required.\n",
      " |  \n",
      " |  fasta\n",
      " |      Write output in FASTA format\n",
      " |      \n",
      " |      This property controls the addition of the -fasta switch, treat this property as a boolean.\n",
      " |  \n",
      " |  fastaout\n",
      " |      Write FASTA format output to specified filename\n",
      " |      \n",
      " |      This controls the addition of the -fastaout parameter and its associated value.  Set this property to the argument value required.\n",
      " |  \n",
      " |  gapextend\n",
      " |      Gap extension penalty\n",
      " |      \n",
      " |      This controls the addition of the -gapextend parameter and its associated value.  Set this property to the argument value required.\n",
      " |  \n",
      " |  gapopen\n",
      " |      Gap open score - negative number\n",
      " |      \n",
      " |      This controls the addition of the -gapopen parameter and its associated value.  Set this property to the argument value required.\n",
      " |  \n",
      " |  group\n",
      " |      Group similar sequences in output\n",
      " |      \n",
      " |      This property controls the addition of the -group switch, treat this property as a boolean.\n",
      " |  \n",
      " |  html\n",
      " |      Write output in HTML format\n",
      " |      \n",
      " |      This property controls the addition of the -html switch, treat this property as a boolean.\n",
      " |  \n",
      " |  htmlout\n",
      " |      Write HTML output to specified filename\n",
      " |      \n",
      " |      This controls the addition of the -htmlout parameter and its associated value.  Set this property to the argument value required.\n",
      " |  \n",
      " |  hydro\n",
      " |      Window size for hydrophobic region\n",
      " |      \n",
      " |      This controls the addition of the -hydro parameter and its associated value.  Set this property to the argument value required.\n",
      " |  \n",
      " |  hydrofactor\n",
      " |      Multiplier for gap penalties in hydrophobic regions\n",
      " |      \n",
      " |      This controls the addition of the -hydrofactor parameter and its associated value.  Set this property to the argument value required.\n",
      " |  \n",
      " |  in1\n",
      " |      First input filename for profile alignment\n",
      " |      \n",
      " |      This controls the addition of the -in1 parameter and its associated value.  Set this property to the argument value required.\n",
      " |  \n",
      " |  in2\n",
      " |      Second input filename for a profile alignment\n",
      " |      \n",
      " |      This controls the addition of the -in2 parameter and its associated value.  Set this property to the argument value required.\n",
      " |  \n",
      " |  input\n",
      " |      Input filename\n",
      " |      \n",
      " |      This controls the addition of the -in parameter and its associated value.  Set this property to the argument value required.\n",
      " |  \n",
      " |  le\n",
      " |      Use log-expectation profile score (VTML240)\n",
      " |      \n",
      " |      This property controls the addition of the -le switch, treat this property as a boolean.\n",
      " |  \n",
      " |  log\n",
      " |      Log file name\n",
      " |      \n",
      " |      This controls the addition of the -log parameter and its associated value.  Set this property to the argument value required.\n",
      " |  \n",
      " |  loga\n",
      " |      Log file name (append to existing file)\n",
      " |      \n",
      " |      This controls the addition of the -loga parameter and its associated value.  Set this property to the argument value required.\n",
      " |  \n",
      " |  matrix\n",
      " |      path to NCBI or WU-BLAST format protein substitution matrix - also set -gapopen, -gapextend and -center\n",
      " |      \n",
      " |      This controls the addition of the -matrix parameter and its associated value.  Set this property to the argument value required.\n",
      " |  \n",
      " |  maxdiagbreak\n",
      " |      Deprecated in v3.8, use -diagbreak instead.\n",
      " |      \n",
      " |      This controls the addition of the -maxdiagbreak parameter and its associated value.  Set this property to the argument value required.\n",
      " |  \n",
      " |  maxhours\n",
      " |      Maximum time to run in hours\n",
      " |      \n",
      " |      This controls the addition of the -maxhours parameter and its associated value.  Set this property to the argument value required.\n",
      " |  \n",
      " |  maxiters\n",
      " |      Maximum number of iterations\n",
      " |      \n",
      " |      This controls the addition of the -maxiters parameter and its associated value.  Set this property to the argument value required.\n",
      " |  \n",
      " |  maxtrees\n",
      " |      Maximum number of trees to build in iteration 2\n",
      " |      \n",
      " |      This controls the addition of the -maxtrees parameter and its associated value.  Set this property to the argument value required.\n",
      " |  \n",
      " |  minbestcolscore\n",
      " |      Minimum score a column must have to be an anchor\n",
      " |      \n",
      " |      This controls the addition of the -minbestcolscore parameter and its associated value.  Set this property to the argument value required.\n",
      " |  \n",
      " |  minsmoothscore\n",
      " |      Minimum smoothed score a column must have to be an anchor\n",
      " |      \n",
      " |      This controls the addition of the -minsmoothscore parameter and its associated value.  Set this property to the argument value required.\n",
      " |  \n",
      " |  msf\n",
      " |      Write output in MSF format\n",
      " |      \n",
      " |      This property controls the addition of the -msf switch, treat this property as a boolean.\n",
      " |  \n",
      " |  msfout\n",
      " |      Write MSF format output to specified filename\n",
      " |      \n",
      " |      This controls the addition of the -msfout parameter and its associated value.  Set this property to the argument value required.\n",
      " |  \n",
      " |  noanchors\n",
      " |      Do not use anchor optimisation in tree dependent refinement iterations\n",
      " |      \n",
      " |      This property controls the addition of the -noanchors switch, treat this property as a boolean.\n",
      " |  \n",
      " |  nocore\n",
      " |      Catch exceptions\n",
      " |      \n",
      " |      This property controls the addition of the -nocore switch, treat this property as a boolean.\n",
      " |  \n",
      " |  objscore\n",
      " |      Objective score used by tree dependent refinement\n",
      " |      \n",
      " |      This controls the addition of the -objscore parameter and its associated value.  Set this property to the argument value required.\n",
      " |  \n",
      " |  out\n",
      " |      Output filename\n",
      " |      \n",
      " |      This controls the addition of the -out parameter and its associated value.  Set this property to the argument value required.\n",
      " |  \n",
      " |  phyi\n",
      " |      Write output in PHYLIP interleaved format\n",
      " |      \n",
      " |      This property controls the addition of the -phyi switch, treat this property as a boolean.\n",
      " |  \n",
      " |  phyiout\n",
      " |      Write PHYLIP interleaved output to specified filename\n",
      " |      \n",
      " |      This controls the addition of the -phyiout parameter and its associated value.  Set this property to the argument value required.\n",
      " |  \n",
      " |  phys\n",
      " |      Write output in PHYLIP sequential format\n",
      " |      \n",
      " |      This property controls the addition of the -phys switch, treat this property as a boolean.\n",
      " |  \n",
      " |  physout\n",
      " |      Write PHYLIP sequential format to specified filename\n",
      " |      \n",
      " |      This controls the addition of the -physout parameter and its associated value.  Set this property to the argument value required.\n",
      " |  \n",
      " |  profile\n",
      " |      Perform a profile alignment\n",
      " |      \n",
      " |      This property controls the addition of the -profile switch, treat this property as a boolean.\n",
      " |  \n",
      " |  quiet\n",
      " |      Do not display progress messages\n",
      " |      \n",
      " |      This property controls the addition of the -quiet switch, treat this property as a boolean.\n",
      " |  \n",
      " |  refine\n",
      " |      Only do tree dependent refinement\n",
      " |      \n",
      " |      This property controls the addition of the -refine switch, treat this property as a boolean.\n",
      " |  \n",
      " |  refinew\n",
      " |      Only do tree dependent refinement using sliding window approach\n",
      " |      \n",
      " |      This property controls the addition of the -refinew switch, treat this property as a boolean.\n",
      " |  \n",
      " |  refinewindow\n",
      " |      Length of window for -refinew\n",
      " |      \n",
      " |      This controls the addition of the -refinewindow parameter and its associated value.  Set this property to the argument value required.\n",
      " |  \n",
      " |  root1\n",
      " |      Method used to root tree in iteration 1\n",
      " |      \n",
      " |      This controls the addition of the -root1 parameter and its associated value.  Set this property to the argument value required.\n",
      " |  \n",
      " |  root2\n",
      " |      Method used to root tree in iteration 2\n",
      " |      \n",
      " |      This controls the addition of the -root2 parameter and its associated value.  Set this property to the argument value required.\n",
      " |  \n",
      " |  scorefile\n",
      " |      Score file name, contains one line for each column in the alignment with average BLOSUM62 score\n",
      " |      \n",
      " |      This controls the addition of the -scorefile parameter and its associated value.  Set this property to the argument value required.\n",
      " |  \n",
      " |  seqtype\n",
      " |      Sequence type\n",
      " |      \n",
      " |      This controls the addition of the -seqtype parameter and its associated value.  Set this property to the argument value required.\n",
      " |  \n",
      " |  smoothscoreceil\n",
      " |      Maximum value of column score for smoothing\n",
      " |      \n",
      " |      This controls the addition of the -smoothscoreceil parameter and its associated value.  Set this property to the argument value required.\n",
      " |  \n",
      " |  smoothwindow\n",
      " |      Window used for anchor column smoothing\n",
      " |      \n",
      " |      This controls the addition of the -smoothwindow parameter and its associated value.  Set this property to the argument value required.\n",
      " |  \n",
      " |  sp\n",
      " |      Use sum-of-pairs protein profile score (PAM200)\n",
      " |      \n",
      " |      This property controls the addition of the -sp switch, treat this property as a boolean.\n",
      " |  \n",
      " |  spn\n",
      " |      Use sum-of-pairs protein nucleotide profile score\n",
      " |      \n",
      " |      This property controls the addition of the -spn switch, treat this property as a boolean.\n",
      " |  \n",
      " |  spscore\n",
      " |      Compute SP objective score of multiple alignment\n",
      " |      \n",
      " |      This controls the addition of the -spscore parameter and its associated value.  Set this property to the argument value required.\n",
      " |  \n",
      " |  stable\n",
      " |      Do not group similar sequences in output (not supported in v3.8)\n",
      " |      \n",
      " |      This property controls the addition of the -stable switch, treat this property as a boolean.\n",
      " |  \n",
      " |  sueff\n",
      " |      Constant used in UPGMB clustering\n",
      " |      \n",
      " |      This controls the addition of the -sueff parameter and its associated value.  Set this property to the argument value required.\n",
      " |  \n",
      " |  sv\n",
      " |      Use sum-of-pairs profile score (VTML240)\n",
      " |      \n",
      " |      This property controls the addition of the -sv switch, treat this property as a boolean.\n",
      " |  \n",
      " |  tree1\n",
      " |      Save Newick tree from iteration 1\n",
      " |      \n",
      " |      This controls the addition of the -tree1 parameter and its associated value.  Set this property to the argument value required.\n",
      " |  \n",
      " |  tree2\n",
      " |      Save Newick tree from iteration 2\n",
      " |      \n",
      " |      This controls the addition of the -tree2 parameter and its associated value.  Set this property to the argument value required.\n",
      " |  \n",
      " |  usetree\n",
      " |      Use given Newick tree as guide tree\n",
      " |      \n",
      " |      This controls the addition of the -usetree parameter and its associated value.  Set this property to the argument value required.\n",
      " |  \n",
      " |  verbose\n",
      " |      Write parameter settings and progress\n",
      " |      \n",
      " |      This property controls the addition of the -verbose switch, treat this property as a boolean.\n",
      " |  \n",
      " |  version\n",
      " |      Write version string to stdout and exit\n",
      " |      \n",
      " |      This property controls the addition of the -version switch, treat this property as a boolean.\n",
      " |  \n",
      " |  weight1\n",
      " |      Weighting scheme used in iteration 1\n",
      " |      \n",
      " |      This controls the addition of the -weight1 parameter and its associated value.  Set this property to the argument value required.\n",
      " |  \n",
      " |  weight2\n",
      " |      Weighting scheme used in iteration 2\n",
      " |      \n",
      " |      This controls the addition of the -weight2 parameter and its associated value.  Set this property to the argument value required.\n",
      " |  \n",
      " |  ----------------------------------------------------------------------\n",
      " |  Methods inherited from Bio.Application.AbstractCommandline:\n",
      " |  \n",
      " |  __call__(self, stdin=None, stdout=True, stderr=True, cwd=None, env=None)\n",
      " |      Execute command, wait for it to finish, return (stdout, stderr).\n",
      " |      \n",
      " |      Runs the command line tool and waits for it to finish. If it returns\n",
      " |      a non-zero error level, an exception is raised. Otherwise two strings\n",
      " |      are returned containing stdout and stderr.\n",
      " |      \n",
      " |      The optional stdin argument should be a string of data which will be\n",
      " |      passed to the tool as standard input.\n",
      " |      \n",
      " |      The optional stdout and stderr argument may be filenames (string),\n",
      " |      but otherwise are treated as a booleans, and control if the output\n",
      " |      should be captured as strings (True, default), or ignored by sending\n",
      " |      it to /dev/null to avoid wasting memory (False). If sent to a file\n",
      " |      or ignored, then empty string(s) are returned.\n",
      " |      \n",
      " |      The optional cwd argument is a string giving the working directory\n",
      " |      to run the command from. See Python's subprocess module documentation\n",
      " |      for more details.\n",
      " |      \n",
      " |      The optional env argument is a dictionary setting the environment\n",
      " |      variables to be used in the new process. By default the current\n",
      " |      process' environment variables are used. See Python's subprocess\n",
      " |      module documentation for more details.\n",
      " |      \n",
      " |      Default example usage::\n",
      " |      \n",
      " |          from Bio.Emboss.Applications import WaterCommandline\n",
      " |          water_cmd = WaterCommandline(gapopen=10, gapextend=0.5,\n",
      " |                                       stdout=True, auto=True,\n",
      " |                                       asequence=\"a.fasta\", bsequence=\"b.fasta\")\n",
      " |          print(\"About to run: %s\" % water_cmd)\n",
      " |          std_output, err_output = water_cmd()\n",
      " |      \n",
      " |      This functionality is similar to subprocess.check_output(). In general\n",
      " |      if you require more control over running the command, use subprocess\n",
      " |      directly.\n",
      " |      \n",
      " |      When the program called returns a non-zero error level, a custom\n",
      " |      ApplicationError exception is raised. This includes any stdout and\n",
      " |      stderr strings captured as attributes of the exception object, since\n",
      " |      they may be useful for diagnosing what went wrong.\n",
      " |  \n",
      " |  __repr__(self)\n",
      " |      Return a representation of the command line object for debugging.\n",
      " |      \n",
      " |      e.g.\n",
      " |      \n",
      " |      >>> from Bio.Emboss.Applications import WaterCommandline\n",
      " |      >>> cline = WaterCommandline(gapopen=10, gapextend=0.5)\n",
      " |      >>> cline.asequence = \"asis:ACCCGGGCGCGGT\"\n",
      " |      >>> cline.bsequence = \"asis:ACCCGAGCGCGGT\"\n",
      " |      >>> cline.outfile = \"temp_water.txt\"\n",
      " |      >>> print(cline)\n",
      " |      water -outfile=temp_water.txt -asequence=asis:ACCCGGGCGCGGT -bsequence=asis:ACCCGAGCGCGGT -gapopen=10 -gapextend=0.5\n",
      " |      >>> cline\n",
      " |      WaterCommandline(cmd='water', outfile='temp_water.txt', asequence='asis:ACCCGGGCGCGGT', bsequence='asis:ACCCGAGCGCGGT', gapopen=10, gapextend=0.5)\n",
      " |  \n",
      " |  __setattr__(self, name, value)\n",
      " |      Set attribute name to value (PRIVATE).\n",
      " |      \n",
      " |      This code implements a workaround for a user interface issue.\n",
      " |      Without this __setattr__ attribute-based assignment of parameters\n",
      " |      will silently accept invalid parameters, leading to known instances\n",
      " |      of the user assuming that parameters for the application are set,\n",
      " |      when they are not.\n",
      " |      \n",
      " |      >>> from Bio.Emboss.Applications import WaterCommandline\n",
      " |      >>> cline = WaterCommandline(gapopen=10, gapextend=0.5, stdout=True)\n",
      " |      >>> cline.asequence = \"a.fasta\"\n",
      " |      >>> cline.bsequence = \"b.fasta\"\n",
      " |      >>> cline.csequence = \"c.fasta\"\n",
      " |      Traceback (most recent call last):\n",
      " |      ...\n",
      " |      ValueError: Option name csequence was not found.\n",
      " |      >>> print(cline)\n",
      " |      water -stdout -asequence=a.fasta -bsequence=b.fasta -gapopen=10 -gapextend=0.5\n",
      " |      \n",
      " |      This workaround uses a whitelist of object attributes, and sets the\n",
      " |      object attribute list as normal, for these.  Other attributes are\n",
      " |      assumed to be parameters, and passed to the self.set_parameter method\n",
      " |      for validation and assignment.\n",
      " |  \n",
      " |  __str__(self)\n",
      " |      Make the commandline string with the currently set options.\n",
      " |      \n",
      " |      e.g.\n",
      " |      \n",
      " |      >>> from Bio.Emboss.Applications import WaterCommandline\n",
      " |      >>> cline = WaterCommandline(gapopen=10, gapextend=0.5)\n",
      " |      >>> cline.asequence = \"asis:ACCCGGGCGCGGT\"\n",
      " |      >>> cline.bsequence = \"asis:ACCCGAGCGCGGT\"\n",
      " |      >>> cline.outfile = \"temp_water.txt\"\n",
      " |      >>> print(cline)\n",
      " |      water -outfile=temp_water.txt -asequence=asis:ACCCGGGCGCGGT -bsequence=asis:ACCCGAGCGCGGT -gapopen=10 -gapextend=0.5\n",
      " |      >>> str(cline)\n",
      " |      'water -outfile=temp_water.txt -asequence=asis:ACCCGGGCGCGGT -bsequence=asis:ACCCGAGCGCGGT -gapopen=10 -gapextend=0.5'\n",
      " |  \n",
      " |  set_parameter(self, name, value=None)\n",
      " |      Set a commandline option for a program (OBSOLETE).\n",
      " |      \n",
      " |      Every parameter is available via a property and as a named\n",
      " |      keyword when creating the instance. Using either of these is\n",
      " |      preferred to this legacy set_parameter method which is now\n",
      " |      OBSOLETE, and likely to be DEPRECATED and later REMOVED in\n",
      " |      future releases.\n",
      " |  \n",
      " |  ----------------------------------------------------------------------\n",
      " |  Data descriptors inherited from Bio.Application.AbstractCommandline:\n",
      " |  \n",
      " |  __dict__\n",
      " |      dictionary for instance variables (if defined)\n",
      " |  \n",
      " |  __weakref__\n",
      " |      list of weak references to the object (if defined)\n",
      " |  \n",
      " |  ----------------------------------------------------------------------\n",
      " |  Data and other attributes inherited from Bio.Application.AbstractCommandline:\n",
      " |  \n",
      " |  parameters = None\n",
      "\n"
     ]
    }
   ],
   "source": [
    "help(MuscleCommandline())"
   ]
  },
  {
   "cell_type": "code",
   "execution_count": 8,
   "id": "competitive-broadcast",
   "metadata": {},
   "outputs": [
    {
     "name": "stdout",
     "output_type": "stream",
     "text": [
      "<class 'Bio.Align.MultipleSeqAlignment'>\n"
     ]
    }
   ],
   "source": [
    "# Open the alignment file as a MultipleSeqAlignment object \n",
    "with open(\"turtles.aln\",\"r\") as aln:\n",
    "    alignment = AlignIO.read(aln,\"clustal\")\n",
    "print(type(alignment))"
   ]
  },
  {
   "cell_type": "code",
   "execution_count": 22,
   "id": "extreme-terminal",
   "metadata": {
    "collapsed": true,
    "jupyter": {
     "outputs_hidden": true
    }
   },
   "outputs": [
    {
     "data": {
      "text/plain": [
       "[SeqRecord(seq=Seq('GCTAGTGTAGCTTAA-TTTAAAGTATGGCACTGAAAATGCTAAGATGAAAATTA...GAC', SingleLetterAlphabet()), id='Loggerhead', name='<unknown name>', description='Loggerhead', dbxrefs=[]),\n",
       " SeqRecord(seq=Seq('GTTAACGTAGCTTAA-TTTAAAGCATGGCACTGAAGATGCTAAGATGAAAATTC...GAT', SingleLetterAlphabet()), id='Kemps', name='<unknown name>', description='Kemps', dbxrefs=[]),\n",
       " SeqRecord(seq=Seq('GCTAGTGTAGCTTAA-TTTAAAGCATGGCACTGAAGATGCTAAGATGAAAATTA...GAT', SingleLetterAlphabet()), id='Hawksbill', name='<unknown name>', description='Hawksbill', dbxrefs=[]),\n",
       " SeqRecord(seq=Seq('GCTAGTGTAGCTTAATTTTAAAGCATGGCACTGAAGATGCTAAGATGAAAATTA...GAT', SingleLetterAlphabet()), id='Green', name='<unknown name>', description='Green', dbxrefs=[]),\n",
       " SeqRecord(seq=Seq('GCTAGTGTAGCTTAA-TTTAAAGCATGGCACTGAAGATGCTAAGATGAAAAATG...GAT', SingleLetterAlphabet()), id='Leatherback', name='<unknown name>', description='Leatherback', dbxrefs=[]),\n",
       " SeqRecord(seq=Seq('GCTAGTGTAGCTTAATTTTAAAGCATGGCACTGAAGATGCTAATATGAAAAATG...GAT', SingleLetterAlphabet()), id='Flatback', name='<unknown name>', description='Flatback', dbxrefs=[])]"
      ]
     },
     "execution_count": 22,
     "metadata": {},
     "output_type": "execute_result"
    }
   ],
   "source": [
    "list(alignment)"
   ]
  },
  {
   "cell_type": "code",
   "execution_count": 9,
   "id": "smart-calvin",
   "metadata": {},
   "outputs": [],
   "source": [
    "# Open and initiate the Distance Calculator using the Identity model \n",
    "from Bio.Phylo.TreeConstruction import DistanceCalculator \n",
    "calculator = DistanceCalculator('identity')"
   ]
  },
  {
   "cell_type": "code",
   "execution_count": 10,
   "id": "controlling-flooring",
   "metadata": {},
   "outputs": [
    {
     "name": "stdout",
     "output_type": "stream",
     "text": [
      "Loggerhead\t0\n",
      "Kemps\t0.21184887364749005\t0\n",
      "Hawksbill\t0.20782829775912015\t0.11500029563058001\t0\n",
      "Green\t0.21598770176787085\t0.1365813279725655\t0.12014426772305331\t0\n",
      "Leatherback\t0.2273399160409153\t0.20445810914681017\t0.19824986696623903\t0.20629101874297873\t0\n",
      "Flatback\t0.2232010879205345\t0.20114704665050553\t0.19529356116596697\t0.20102879441849464\t0.12522911369952106\t0\n",
      "\tLoggerhead\tKemps\tHawksbill\tGreen\tLeatherback\tFlatback\n"
     ]
    }
   ],
   "source": [
    "# Write the Distance Matrix \n",
    "distance_matrix = calculator.get_distance(align)\n",
    "print(distance_matrix)"
   ]
  },
  {
   "cell_type": "code",
   "execution_count": 11,
   "id": "patent-copying",
   "metadata": {},
   "outputs": [],
   "source": [
    "# Open and initiate the Tree Constructor \n",
    "from Bio.Phylo.TreeConstruction import DistanceTreeConstructor\n",
    "constructor = DistanceTreeConstructor(calculator)"
   ]
  },
  {
   "cell_type": "code",
   "execution_count": 12,
   "id": "civilian-johnson",
   "metadata": {},
   "outputs": [
    {
     "name": "stdout",
     "output_type": "stream",
     "text": [
      "Tree(rooted=True)\n",
      "    Clade(branch_length=0, name='Inner4')\n",
      "        Clade(branch_length=0.030501685094306126, name='Inner2')\n",
      "            Clade(branch_length=0.04461558170243804, name='Inner1')\n",
      "                Clade(branch_length=0.06065600425708033, name='Flatback')\n",
      "                Clade(branch_length=0.06457310944244073, name='Leatherback')\n",
      "            Clade(branch_length=0.11804036342852633, name='Loggerhead')\n",
      "        Clade(branch_length=0.004175781942884184, name='Inner3')\n",
      "            Clade(branch_length=0.052134452787796354, name='Hawksbill')\n",
      "            Clade(branch_length=0.06286584284278365, name='Kemps')\n",
      "        Clade(branch_length=0.0666868680896352, name='Green')\n"
     ]
    }
   ],
   "source": [
    "# Build the tree \n",
    "turtle_tree = constructor.build_tree(align)\n",
    "turtle_tree.rooted = True\n",
    "print(turtle_tree)"
   ]
  },
  {
   "cell_type": "code",
   "execution_count": 13,
   "id": "reverse-homework",
   "metadata": {},
   "outputs": [
    {
     "data": {
      "text/plain": [
       "1"
      ]
     },
     "execution_count": 13,
     "metadata": {},
     "output_type": "execute_result"
    }
   ],
   "source": [
    "# Save the tree to a new file \n",
    "Phylo.write(turtle_tree, \"turtle_tree.xml\", \"phyloxml\")\n",
    "Phylo.write(turtle_tree, \"turtle_tree.nwk\", \"newick\")"
   ]
  },
  {
   "cell_type": "code",
   "execution_count": 14,
   "id": "infectious-spectrum",
   "metadata": {},
   "outputs": [
    {
     "data": {
      "image/png": "[encoded data removed]",
      "text/plain": [
       "<Figure size 432x288 with 1 Axes>"
      ]
     },
     "metadata": {
      "needs_background": "light"
     },
     "output_type": "display_data"
    }
   ],
   "source": [
    "# Import matplotlib and create a basic tree \n",
    "import matplotlib\n",
    "import matplotlib.pyplot as plt\n",
    "fig = Phylo.draw(turtle_tree)"
   ]
  },
  {
   "cell_type": "code",
   "execution_count": 15,
   "id": "missing-sustainability",
   "metadata": {},
   "outputs": [
    {
     "data": {
      "image/png": "[encoded data removed]",
      "text/plain": [
       "<Figure size 1300x500 with 1 Axes>"
      ]
     },
     "metadata": {
      "needs_background": "light"
     },
     "output_type": "display_data"
    }
   ],
   "source": [
    "# Make a better looking tree using the features of matplotlib \n",
    "\n",
    "fig = plt.figure(figsize=(13, 5), dpi=100) # create figure & set the size \n",
    "matplotlib.rc('font', size=12)              # fontsize of the leaf and node labels \n",
    "matplotlib.rc('xtick', labelsize=10)       # fontsize of the tick labels\n",
    "matplotlib.rc('ytick', labelsize=10)       # fontsize of the tick labels\n",
    "#turtle_tree.ladderize()\n",
    "axes = fig.add_subplot(1, 1, 1)\n",
    "Phylo.draw(turtle_tree, axes=axes)\n",
    "fig.savefig(\"turtles_cladogram\")"
   ]
  },
  {
   "cell_type": "code",
   "execution_count": 30,
   "id": "framed-affiliation",
   "metadata": {},
   "outputs": [
    {
     "data": {
      "text/plain": [
       "1"
      ]
     },
     "execution_count": 30,
     "metadata": {},
     "output_type": "execute_result"
    }
   ],
   "source": [
    "# Convert the tree to a different format (optional)\n",
    "Phylo.convert(\"turtle_tree.xml\", \"phyloxml\", \"turtle_tree.nex\", \"nexus\")"
   ]
  },
  {
   "cell_type": "code",
   "execution_count": 32,
   "id": "mental-fairy",
   "metadata": {},
   "outputs": [
    {
     "data": {
      "image/png": "[encoded data removed]",
      "text/plain": [
       "<Figure size 1300x500 with 1 Axes>"
      ]
     },
     "metadata": {
      "needs_background": "light"
     },
     "output_type": "display_data"
    }
   ],
   "source": [
    "turtle_nex = Phylo.read(\"turtle_tree.nex\", \"nexus\")\n",
    "\n",
    "fig = plt.figure(figsize=(13, 5), dpi=100) # create figure & set the size \n",
    "matplotlib.rc('font', size=12)              # fontsize of the leaf and node labels \n",
    "matplotlib.rc('xtick', labelsize=10)       # fontsize of the tick labels\n",
    "matplotlib.rc('ytick', labelsize=10)       # fontsize of the tick labels\n",
    "#turtle_tree.ladderize()\n",
    "axes = fig.add_subplot(1, 1, 1)\n",
    "Phylo.draw(turtle_nex, axes=axes)\n",
    "fig.savefig(\"turtles2_cladogram\")"
   ]
  },
  {
   "cell_type": "markdown",
   "id": "heard-loading",
   "metadata": {},
   "source": [
    "# Take Genbank from Acc_Number to Show in FrontEnd"
   ]
  },
  {
   "cell_type": "code",
   "execution_count": 3,
   "id": "coated-wichita",
   "metadata": {},
   "outputs": [
    {
     "data": {
      "text/plain": [
       "Seq('CAGCCCACCCAGCTGCTGCCAACCTCTTCACCTCTGGGTGCTCTGCCCTGAGCT...GCT', IUPACAmbiguousDNA())"
      ]
     },
     "execution_count": 3,
     "metadata": {},
     "output_type": "execute_result"
    }
   ],
   "source": [
    "#Find Out an \n",
    "\n",
    "acc_number_list = ['CR541913','AWGT02000214']#'AY410048','NW_007281581','NM_173917','MKHE01000001','DP001094',\n",
    "                      #'CM008008','KM522873','AF114701','NM_001144841','DP001067']\n",
    "Genbank_Results = []\n",
    "AAA = {}\n",
    "count = -1\n",
    "Entrez.email = \"jimenerojorge@example.com\"  # Always tell NCBI who you are \t\n",
    "for acc_number in acc_number_list: \n",
    "        count+=1\n",
    "        with Entrez.efetch(db      =\"nucleotide\",\n",
    "                           id      = acc_number,\n",
    "                           rettype =\"gb\",\n",
    "                           retmode =\"text\") as efetch_response:\n",
    "                           result  = SeqIO.read(efetch_response, \"genbank\")\n",
    "                           Genbank_Results.append(result)\n",
    "        #Get Taxon ID      db_xref = result.features[0].qualifiers['db_xref']\n",
    "                           #SeqIO.write(Genbank_Results[count],'Genbank'+str(count)+'.gb', 'genbank')\n",
    "                           #print(db_xref)\n",
    "                           #print(Genbank_Results)\n",
    "                    \n",
    "Genbank_Results[0].id\n",
    "Genbank_Results[0].description\n",
    "Genbank_Results[0].seq\n",
    "Genbank_Results[1].id\n",
    "Genbank_Results[1].description\n",
    "Genbank_Results[1].seq"
   ]
  },
  {
   "cell_type": "code",
   "execution_count": 16,
   "id": "mysterious-heating",
   "metadata": {},
   "outputs": [
    {
     "ename": "AttributeError",
     "evalue": "'Seq' object has no attribute 'tostring'",
     "output_type": "error",
     "traceback": [
      "\u001b[1;31m---------------------------------------------------------------------------\u001b[0m",
      "\u001b[1;31mAttributeError\u001b[0m                            Traceback (most recent call last)",
      "\u001b[1;32m<ipython-input-16-2eca5642eb87>\u001b[0m in \u001b[0;36m<module>\u001b[1;34m\u001b[0m\n\u001b[1;32m----> 1\u001b[1;33m \u001b[0mGenbank_Results\u001b[0m\u001b[1;33m[\u001b[0m\u001b[1;36m0\u001b[0m\u001b[1;33m]\u001b[0m\u001b[1;33m.\u001b[0m\u001b[0mseq\u001b[0m\u001b[1;33m.\u001b[0m\u001b[0mtostring\u001b[0m\u001b[1;33m(\u001b[0m\u001b[1;33m)\u001b[0m\u001b[1;33m.\u001b[0m\u001b[0mupper\u001b[0m\u001b[1;33m(\u001b[0m\u001b[1;33m)\u001b[0m\u001b[1;33m\u001b[0m\u001b[1;33m\u001b[0m\u001b[0m\n\u001b[0m",
      "\u001b[1;31mAttributeError\u001b[0m: 'Seq' object has no attribute 'tostring'"
     ]
    }
   ],
   "source": [
    "Genbank_Results[0].seq.tostring().upper()"
   ]
  },
  {
   "cell_type": "code",
   "execution_count": 28,
   "id": "nonprofit-explosion",
   "metadata": {},
   "outputs": [
    {
     "data": {
      "text/plain": [
       "'ATGGTGCACCTGACTCCTGAGGAGAAGTCTGCCGTTACTGCCCTGTGGGGCAAGGTGAACGTGGATGAAGTTGGTGGTGAGGCCCTGGGCAGGCTGCTGGTGGTCTACCCTTGGACCCAGAGGTTCTTTGAGTCCTTTGGGGATCTGTCCACTCCTGATGCTGTTATGGGCAACCCTAAGGTGAAGGCTCATGGCAAGAAAGTGCTCGGTGCCTTTAGTGATGGCCTGGCTCACCTGGACAACCTCAAGGGCACCTTTGCCACACTGAGTGAGCTGCACTGTGACAAGCTGCACGTGGATCCTGAGAACTTCAGGCTCCTGGGCAACGTGCTGGTCTGTGTGCTGGCCCATCACTTTGGCAAAGAATTCACCCCACCAGTGCAGGCTGCCTATCAGAAAGTGGTGGCTGGTGTGGCTAATGCCCTGGCCCACAAGTATCAC'"
      ]
     },
     "execution_count": 28,
     "metadata": {},
     "output_type": "execute_result"
    }
   ],
   "source": [
    "str(Genbank_Results[0].seq)"
   ]
  },
  {
   "cell_type": "code",
   "execution_count": 21,
   "id": "surprising-savage",
   "metadata": {
    "collapsed": true,
    "jupyter": {
     "outputs_hidden": true
    }
   },
   "outputs": [
    {
     "ename": "NameError",
     "evalue": "name 'SeqRecord' is not defined",
     "output_type": "error",
     "traceback": [
      "\u001b[1;31m---------------------------------------------------------------------------\u001b[0m",
      "\u001b[1;31mNameError\u001b[0m                                 Traceback (most recent call last)",
      "\u001b[1;32m<ipython-input-21-2460acd4ab05>\u001b[0m in \u001b[0;36m<module>\u001b[1;34m\u001b[0m\n\u001b[0;32m      8\u001b[0m     \u001b[1;32mreturn\u001b[0m \u001b[0mseq\u001b[0m\u001b[1;33m\u001b[0m\u001b[1;33m\u001b[0m\u001b[0m\n\u001b[0;32m      9\u001b[0m \u001b[1;33m\u001b[0m\u001b[0m\n\u001b[1;32m---> 10\u001b[1;33m \u001b[0mget_string\u001b[0m\u001b[1;33m(\u001b[0m\u001b[0mA\u001b[0m\u001b[1;33m)\u001b[0m\u001b[1;33m\u001b[0m\u001b[1;33m\u001b[0m\u001b[0m\n\u001b[0m",
      "\u001b[1;32m<ipython-input-21-2460acd4ab05>\u001b[0m in \u001b[0;36mget_string\u001b[1;34m(seqobj)\u001b[0m\n\u001b[0;32m      1\u001b[0m \u001b[1;32mdef\u001b[0m \u001b[0mget_string\u001b[0m\u001b[1;33m(\u001b[0m\u001b[0mseqobj\u001b[0m\u001b[1;33m)\u001b[0m\u001b[1;33m:\u001b[0m\u001b[1;33m\u001b[0m\u001b[1;33m\u001b[0m\u001b[0m\n\u001b[1;32m----> 2\u001b[1;33m     \u001b[1;32mif\u001b[0m \u001b[0misinstance\u001b[0m\u001b[1;33m(\u001b[0m\u001b[0mseqobj\u001b[0m\u001b[1;33m,\u001b[0m\u001b[0mSeqRecord\u001b[0m\u001b[1;33m)\u001b[0m\u001b[1;33m:\u001b[0m\u001b[1;33m\u001b[0m\u001b[1;33m\u001b[0m\u001b[0m\n\u001b[0m\u001b[0;32m      3\u001b[0m         \u001b[0mseq\u001b[0m \u001b[1;33m=\u001b[0m \u001b[0mseqobj\u001b[0m\u001b[1;33m.\u001b[0m\u001b[0mseq\u001b[0m\u001b[1;33m.\u001b[0m\u001b[0mtostring\u001b[0m\u001b[1;33m(\u001b[0m\u001b[1;33m)\u001b[0m\u001b[1;33m.\u001b[0m\u001b[0mupper\u001b[0m\u001b[1;33m(\u001b[0m\u001b[1;33m)\u001b[0m\u001b[1;33m\u001b[0m\u001b[1;33m\u001b[0m\u001b[0m\n\u001b[0;32m      4\u001b[0m     \u001b[1;32melif\u001b[0m \u001b[0misinstance\u001b[0m\u001b[1;33m(\u001b[0m\u001b[0mseqobj\u001b[0m\u001b[1;33m,\u001b[0m\u001b[0mSeq\u001b[0m\u001b[1;33m)\u001b[0m\u001b[1;33m:\u001b[0m\u001b[1;33m\u001b[0m\u001b[1;33m\u001b[0m\u001b[0m\n\u001b[0;32m      5\u001b[0m         \u001b[0mseq\u001b[0m \u001b[1;33m=\u001b[0m \u001b[0mseqobj\u001b[0m\u001b[1;33m.\u001b[0m\u001b[0mtostring\u001b[0m\u001b[1;33m(\u001b[0m\u001b[1;33m)\u001b[0m\u001b[1;33m.\u001b[0m\u001b[0mupper\u001b[0m\u001b[1;33m(\u001b[0m\u001b[1;33m)\u001b[0m\u001b[1;33m\u001b[0m\u001b[1;33m\u001b[0m\u001b[0m\n",
      "\u001b[1;31mNameError\u001b[0m: name 'SeqRecord' is not defined"
     ]
    }
   ],
   "source": [
    "def get_string(seqobj):\n",
    "    if isinstance(seqobj,SeqRecord):\n",
    "        seq = seqobj.seq.tostring().upper()\n",
    "    elif isinstance(seqobj,Seq):\n",
    "        seq = seqobj.tostring().upper()\n",
    "    elif isinstance(seqobj,str):\n",
    "        seq = seqobj.upper()\n",
    "    return seq\n",
    "\n",
    "get_string(A)"
   ]
  },
  {
   "cell_type": "code",
   "execution_count": 6,
   "id": "continuous-programmer",
   "metadata": {},
   "outputs": [
    {
     "name": "stdout",
     "output_type": "stream",
     "text": [
      "[{'Id': 'CR541913.1', 'Description': 'Homo sapiens full open reading frame cDNA clone RZPDo834E0633D for gene HBB, hemoglobin, beta; complete cds, without stopcodon', 'Seq': Seq('ATGGTGCACCTGACTCCTGAGGAGAAGTCTGCCGTTACTGCCCTGTGGGGCAAG...CAC', IUPACAmbiguousDNA())}]\n",
      "[{'Id': 'AWGT02000214.1', 'Description': 'Colinus virginianus strain Texas jcf7180006227083, whole genome shotgun sequence', 'Seq': Seq('CAGCCCACCCAGCTGCTGCCAACCTCTTCACCTCTGGGTGCTCTGCCCTGAGCT...GCT', IUPACAmbiguousDNA())}]\n"
     ]
    }
   ],
   "source": [
    "Gb1 = [{'Id': Genbank_Results[0].id ,'Description': Genbank_Results[0].description,'Seq':Genbank_Results[0].seq}]\n",
    "Gb2 = [{'Id': Genbank_Results[1].id ,'Description': Genbank_Results[1].description,'Seq':Genbank_Results[1].seq}]\n",
    "print(Gb1)\n",
    "print(Gb2)\n",
    "json = {}\n",
    "json = Gb1 + Gb2"
   ]
  },
  {
   "cell_type": "code",
   "execution_count": 7,
   "id": "engaged-wednesday",
   "metadata": {},
   "outputs": [
    {
     "data": {
      "text/plain": [
       "[{'Id': 'CR541913.1',\n",
       "  'Description': 'Homo sapiens full open reading frame cDNA clone RZPDo834E0633D for gene HBB, hemoglobin, beta; complete cds, without stopcodon',\n",
       "  'Seq': Seq('ATGGTGCACCTGACTCCTGAGGAGAAGTCTGCCGTTACTGCCCTGTGGGGCAAG...CAC', IUPACAmbiguousDNA())},\n",
       " {'Id': 'AWGT02000214.1',\n",
       "  'Description': 'Colinus virginianus strain Texas jcf7180006227083, whole genome shotgun sequence',\n",
       "  'Seq': Seq('CAGCCCACCCAGCTGCTGCCAACCTCTTCACCTCTGGGTGCTCTGCCCTGAGCT...GCT', IUPACAmbiguousDNA())}]"
      ]
     },
     "execution_count": 7,
     "metadata": {},
     "output_type": "execute_result"
    }
   ],
   "source": [
    "json"
   ]
  },
  {
   "cell_type": "code",
   "execution_count": 8,
   "id": "engaging-customer",
   "metadata": {
    "collapsed": true,
    "jupyter": {
     "outputs_hidden": true
    }
   },
   "outputs": [
    {
     "name": "stdout",
     "output_type": "stream",
     "text": [
      "ID: CR541913.1\n",
      "Name: CR541913\n",
      "Description: Homo sapiens full open reading frame cDNA clone RZPDo834E0633D for gene HBB, hemoglobin, beta; complete cds, without stopcodon\n",
      "Number of features: 3\n",
      "/molecule_type=mRNA\n",
      "/topology=linear\n",
      "/data_file_division=PRI\n",
      "/date=26-JUL-2016\n",
      "/accessions=['CR541913']\n",
      "/sequence_version=1\n",
      "/keywords=['Full ORF shuttle clone, Gateway(TM), complete cds']\n",
      "/source=Homo sapiens (human)\n",
      "/organism=Homo sapiens\n",
      "/taxonomy=['Eukaryota', 'Metazoa', 'Chordata', 'Craniata', 'Vertebrata', 'Euteleostomi', 'Mammalia', 'Eutheria', 'Euarchontoglires', 'Primates', 'Haplorrhini', 'Catarrhini', 'Hominidae', 'Homo']\n",
      "/references=[Reference(title='Cloning of human full open reading frames in Gateway(TM) system entry vector (pDONR201)', ...), Reference(title='Direct Submission', ...)]\n",
      "/comment=RZPD; RZPDo834E0633D, ORFNo 3942\n",
      "www.rzpd.de/cgi-bin/products/cl.cgi?CloneID=RZPDo834E0633D RZPDLIB;\n",
      "Human Full ORF Clones Gateway(TM) - RZPD (kan-resist.) RZPD LIB No.\n",
      "834\n",
      "www.rzpd.de/cgi-bin/products/showLib.pl.cgi/response?libNo=834\n",
      "www.rzpd.de/products/orfclones/\n",
      "Contact: Inge Arlart\n",
      "RZPD Deutsches Ressourcenzentrum fuer Genomforschung GmbH,\n",
      "Heubnerweg 6, D-14059 Berlin, Germany\n",
      "Tel: +49 30 32639 100\n",
      "Fax: +49 30 32639 111\n",
      "www.rzpd.de\n",
      "This clone is available from RZPD;\n",
      "Contact RZPD (customer.service@rzpd.de) for further information.\n",
      "Clone name at Harvard Institute of Proteomics\n",
      "(www.hip.harvard.edu): FLH130860.01L\n",
      "This CDS clone is part of a collection of human full ORF clones\n",
      "jointly established and verified by the Harvard Institute of\n",
      "Proteomics (HIP) and RZPD.\n",
      "This CDS has been cloned without stopcodon.\n",
      "The CDS has been inserted into pDONR201 via a BP Clonase(TM)\n",
      "reaction. Additional sequence has been added in front of the start\n",
      "codon: att..AAAAAA GCA GGC TCC ACC (ATG).\n",
      "The last codon is followed by the 3' att site: GACCCAGCTTTCTT..att\n",
      "The clone is validated by full sequence check.\n",
      "Compared to the reference sequence NM_000518 (GI:28302128) we did\n",
      "not find any amino acid exchanges.\n",
      "Clone distribution: http://www.rzpd.de/products/orfclones/\n",
      "Seq('ATGGTGCACCTGACTCCTGAGGAGAAGTCTGCCGTTACTGCCCTGTGGGGCAAG...CAC', IUPACAmbiguousDNA())\n"
     ]
    },
    {
     "ename": "TypeError",
     "evalue": "Object of type SeqRecord is not JSON serializable",
     "output_type": "error",
     "traceback": [
      "\u001b[1;31m---------------------------------------------------------------------------\u001b[0m",
      "\u001b[1;31mTypeError\u001b[0m                                 Traceback (most recent call last)",
      "\u001b[1;32m<ipython-input-8-0a3be6f1d2f1>\u001b[0m in \u001b[0;36m<module>\u001b[1;34m\u001b[0m\n\u001b[0;32m      6\u001b[0m \u001b[1;33m\u001b[0m\u001b[0m\n\u001b[0;32m      7\u001b[0m \u001b[0mtype\u001b[0m\u001b[1;33m(\u001b[0m\u001b[0mmy_dict\u001b[0m\u001b[1;33m)\u001b[0m\u001b[1;33m\u001b[0m\u001b[1;33m\u001b[0m\u001b[0m\n\u001b[1;32m----> 8\u001b[1;33m \u001b[0mapp_json\u001b[0m \u001b[1;33m=\u001b[0m \u001b[0mjson\u001b[0m\u001b[1;33m.\u001b[0m\u001b[0mdumps\u001b[0m\u001b[1;33m(\u001b[0m\u001b[0mmy_dict\u001b[0m\u001b[1;33m)\u001b[0m\u001b[1;33m\u001b[0m\u001b[1;33m\u001b[0m\u001b[0m\n\u001b[0m",
      "\u001b[1;32m~\\anaconda3\\envs\\bio\\lib\\json\\__init__.py\u001b[0m in \u001b[0;36mdumps\u001b[1;34m(obj, skipkeys, ensure_ascii, check_circular, allow_nan, cls, indent, separators, default, sort_keys, **kw)\u001b[0m\n\u001b[0;32m    229\u001b[0m         \u001b[0mcls\u001b[0m \u001b[1;32mis\u001b[0m \u001b[1;32mNone\u001b[0m \u001b[1;32mand\u001b[0m \u001b[0mindent\u001b[0m \u001b[1;32mis\u001b[0m \u001b[1;32mNone\u001b[0m \u001b[1;32mand\u001b[0m \u001b[0mseparators\u001b[0m \u001b[1;32mis\u001b[0m \u001b[1;32mNone\u001b[0m \u001b[1;32mand\u001b[0m\u001b[1;33m\u001b[0m\u001b[1;33m\u001b[0m\u001b[0m\n\u001b[0;32m    230\u001b[0m         default is None and not sort_keys and not kw):\n\u001b[1;32m--> 231\u001b[1;33m         \u001b[1;32mreturn\u001b[0m \u001b[0m_default_encoder\u001b[0m\u001b[1;33m.\u001b[0m\u001b[0mencode\u001b[0m\u001b[1;33m(\u001b[0m\u001b[0mobj\u001b[0m\u001b[1;33m)\u001b[0m\u001b[1;33m\u001b[0m\u001b[1;33m\u001b[0m\u001b[0m\n\u001b[0m\u001b[0;32m    232\u001b[0m     \u001b[1;32mif\u001b[0m \u001b[0mcls\u001b[0m \u001b[1;32mis\u001b[0m \u001b[1;32mNone\u001b[0m\u001b[1;33m:\u001b[0m\u001b[1;33m\u001b[0m\u001b[1;33m\u001b[0m\u001b[0m\n\u001b[0;32m    233\u001b[0m         \u001b[0mcls\u001b[0m \u001b[1;33m=\u001b[0m \u001b[0mJSONEncoder\u001b[0m\u001b[1;33m\u001b[0m\u001b[1;33m\u001b[0m\u001b[0m\n",
      "\u001b[1;32m~\\anaconda3\\envs\\bio\\lib\\json\\encoder.py\u001b[0m in \u001b[0;36mencode\u001b[1;34m(self, o)\u001b[0m\n\u001b[0;32m    197\u001b[0m         \u001b[1;31m# exceptions aren't as detailed.  The list call should be roughly\u001b[0m\u001b[1;33m\u001b[0m\u001b[1;33m\u001b[0m\u001b[1;33m\u001b[0m\u001b[0m\n\u001b[0;32m    198\u001b[0m         \u001b[1;31m# equivalent to the PySequence_Fast that ''.join() would do.\u001b[0m\u001b[1;33m\u001b[0m\u001b[1;33m\u001b[0m\u001b[1;33m\u001b[0m\u001b[0m\n\u001b[1;32m--> 199\u001b[1;33m         \u001b[0mchunks\u001b[0m \u001b[1;33m=\u001b[0m \u001b[0mself\u001b[0m\u001b[1;33m.\u001b[0m\u001b[0miterencode\u001b[0m\u001b[1;33m(\u001b[0m\u001b[0mo\u001b[0m\u001b[1;33m,\u001b[0m \u001b[0m_one_shot\u001b[0m\u001b[1;33m=\u001b[0m\u001b[1;32mTrue\u001b[0m\u001b[1;33m)\u001b[0m\u001b[1;33m\u001b[0m\u001b[1;33m\u001b[0m\u001b[0m\n\u001b[0m\u001b[0;32m    200\u001b[0m         \u001b[1;32mif\u001b[0m \u001b[1;32mnot\u001b[0m \u001b[0misinstance\u001b[0m\u001b[1;33m(\u001b[0m\u001b[0mchunks\u001b[0m\u001b[1;33m,\u001b[0m \u001b[1;33m(\u001b[0m\u001b[0mlist\u001b[0m\u001b[1;33m,\u001b[0m \u001b[0mtuple\u001b[0m\u001b[1;33m)\u001b[0m\u001b[1;33m)\u001b[0m\u001b[1;33m:\u001b[0m\u001b[1;33m\u001b[0m\u001b[1;33m\u001b[0m\u001b[0m\n\u001b[0;32m    201\u001b[0m             \u001b[0mchunks\u001b[0m \u001b[1;33m=\u001b[0m \u001b[0mlist\u001b[0m\u001b[1;33m(\u001b[0m\u001b[0mchunks\u001b[0m\u001b[1;33m)\u001b[0m\u001b[1;33m\u001b[0m\u001b[1;33m\u001b[0m\u001b[0m\n",
      "\u001b[1;32m~\\anaconda3\\envs\\bio\\lib\\json\\encoder.py\u001b[0m in \u001b[0;36miterencode\u001b[1;34m(self, o, _one_shot)\u001b[0m\n\u001b[0;32m    255\u001b[0m                 \u001b[0mself\u001b[0m\u001b[1;33m.\u001b[0m\u001b[0mkey_separator\u001b[0m\u001b[1;33m,\u001b[0m \u001b[0mself\u001b[0m\u001b[1;33m.\u001b[0m\u001b[0mitem_separator\u001b[0m\u001b[1;33m,\u001b[0m \u001b[0mself\u001b[0m\u001b[1;33m.\u001b[0m\u001b[0msort_keys\u001b[0m\u001b[1;33m,\u001b[0m\u001b[1;33m\u001b[0m\u001b[1;33m\u001b[0m\u001b[0m\n\u001b[0;32m    256\u001b[0m                 self.skipkeys, _one_shot)\n\u001b[1;32m--> 257\u001b[1;33m         \u001b[1;32mreturn\u001b[0m \u001b[0m_iterencode\u001b[0m\u001b[1;33m(\u001b[0m\u001b[0mo\u001b[0m\u001b[1;33m,\u001b[0m \u001b[1;36m0\u001b[0m\u001b[1;33m)\u001b[0m\u001b[1;33m\u001b[0m\u001b[1;33m\u001b[0m\u001b[0m\n\u001b[0m\u001b[0;32m    258\u001b[0m \u001b[1;33m\u001b[0m\u001b[0m\n\u001b[0;32m    259\u001b[0m def _make_iterencode(markers, _default, _encoder, _indent, _floatstr,\n",
      "\u001b[1;32m~\\anaconda3\\envs\\bio\\lib\\json\\encoder.py\u001b[0m in \u001b[0;36mdefault\u001b[1;34m(self, o)\u001b[0m\n\u001b[0;32m    177\u001b[0m \u001b[1;33m\u001b[0m\u001b[0m\n\u001b[0;32m    178\u001b[0m         \"\"\"\n\u001b[1;32m--> 179\u001b[1;33m         raise TypeError(f'Object of type {o.__class__.__name__} '\n\u001b[0m\u001b[0;32m    180\u001b[0m                         f'is not JSON serializable')\n\u001b[0;32m    181\u001b[0m \u001b[1;33m\u001b[0m\u001b[0m\n",
      "\u001b[1;31mTypeError\u001b[0m: Object of type SeqRecord is not JSON serializable"
     ]
    }
   ],
   "source": [
    "my_dict = dict() \n",
    "for index,value in enumerate(Genbank_Results):\n",
    "    my_dict[index] = value\n",
    "    \n",
    "print(my_dict[0])\n",
    "\n",
    "type(my_dict)\n",
    "app_json = json.dumps(appDict)"
   ]
  },
  {
   "cell_type": "code",
   "execution_count": 24,
   "id": "still-alliance",
   "metadata": {},
   "outputs": [
    {
     "name": "stdout",
     "output_type": "stream",
     "text": [
      "CR541913.1\n",
      "Homo sapiens full open reading frame cDNA clone RZPDo834E0633D for gene HBB, hemoglobin, beta; complete cds, without stopcodon\n",
      "ATGGTGCACCTGACTCCTGAGGAGAAGTCTGCCGTTACTGCCCTGTGGGGCAAGGTGAACGTGGATGAAGTTGGTGGTGAGGCCCTGGGCAGGCTGCTGGTGGTCTACCCTTGGACCCAGAGGTTCTTTGAGTCCTTTGGGGATCTGTCCACTCCTGATGCTGTTATGGGCAACCCTAAGGTGAAGGCTCATGGCAAGAAAGTGCTCGGTGCCTTTAGTGATGGCCTGGCTCACCTGGACAACCTCAAGGGCACCTTTGCCACACTGAGTGAGCTGCACTGTGACAAGCTGCACGTGGATCCTGAGAACTTCAGGCTCCTGGGCAACGTGCTGGTCTGTGTGCTGGCCCATCACTTTGGCAAAGAATTCACCCCACCAGTGCAGGCTGCCTATCAGAAAGTGGTGGCTGGTGTGGCTAATGCCCTGGCCCACAAGTATCAC\n",
      "<class 'list'>\n"
     ]
    }
   ],
   "source": [
    "import json\n",
    "\n",
    "print(Genbank_Results[0].id)\n",
    "print(Genbank_Results[0].description)\n",
    "#print(Genbank_Results[0].features)\n",
    "print(Genbank_Results[0].seq)\n",
    "\n",
    "Gb1 = [{'Id': Genbank_Results[0].id ,'Description': Genbank_Results[0].description,\n",
    "        'Seq':Genbank_Results[0].seq }]\n",
    "\n",
    "print(type(Gb1))\n"
   ]
  },
  {
   "cell_type": "code",
   "execution_count": 20,
   "id": "public-agriculture",
   "metadata": {},
   "outputs": [
    {
     "name": "stdout",
     "output_type": "stream",
     "text": [
      "{0: SeqRecord(seq=Seq('ATGGTGCACCTGACTCCTGAGGAGAAGTCTGCCGTTACTGCCCTGTGGGGCAAG...CAC', IUPACAmbiguousDNA()), id='CR541913.1', name='CR541913', description='Homo sapiens full open reading frame cDNA clone RZPDo834E0633D for gene HBB, hemoglobin, beta; complete cds, without stopcodon', dbxrefs=[]), 1: SeqRecord(seq=Seq('CAGCCCACCCAGCTGCTGCCAACCTCTTCACCTCTGGGTGCTCTGCCCTGAGCT...GCT', IUPACAmbiguousDNA()), id='AWGT02000214.1', name='AWGT02000214', description='Colinus virginianus strain Texas jcf7180006227083, whole genome shotgun sequence', dbxrefs=['BioProject:PRJNA188411', 'BioSample:SAMN02981558'])}\n"
     ]
    },
    {
     "data": {
      "text/plain": [
       "[SeqRecord(seq=Seq('ATGGTGCACCTGACTCCTGAGGAGAAGTCTGCCGTTACTGCCCTGTGGGGCAAG...CAC', IUPACAmbiguousDNA()), id='CR541913.1', name='CR541913', description='Homo sapiens full open reading frame cDNA clone RZPDo834E0633D for gene HBB, hemoglobin, beta; complete cds, without stopcodon', dbxrefs=[]),\n",
       " SeqRecord(seq=Seq('CAGCCCACCCAGCTGCTGCCAACCTCTTCACCTCTGGGTGCTCTGCCCTGAGCT...GCT', IUPACAmbiguousDNA()), id='AWGT02000214.1', name='AWGT02000214', description='Colinus virginianus strain Texas jcf7180006227083, whole genome shotgun sequence', dbxrefs=['BioProject:PRJNA188411', 'BioSample:SAMN02981558'])]"
      ]
     },
     "execution_count": 20,
     "metadata": {},
     "output_type": "execute_result"
    }
   ],
   "source": [
    "def CreateGenbankByAccNumber():\n",
    "    Entrez.email = \"jimenerojorge@example.com\"  # Always tell NCBI who you are \n",
    "    acc_number_list = ['CR541913','AWGT02000214']#,'AY410048','NW_007281581','NM_173917','MKHE01000001','DP001094','CM008008','KM522873','AF114701','NM_001144841','DP001067']\n",
    "    Genbank_Results = []\n",
    "    count = -1\t\n",
    "    my_dict = dict() \n",
    "    for acc_number in acc_number_list: \n",
    "            count+=1\n",
    "            with Entrez.efetch(db      =\"nucleotide\",\n",
    "                               id      = acc_number,\n",
    "                               rettype =\"gb\",\n",
    "                               retmode =\"text\") as efetch_response:\n",
    "                               result  = SeqIO.read(efetch_response, \"genbank\")\n",
    "                               Genbank_Results.append(result)\n",
    "                               # print(result)\n",
    "                               #SeqIO.write(Genbank_Results[count],'/home/george/Escritorio/GenBankFiles/Genbank'+str(count)+'.gb', 'genbank')\n",
    "                               # print(Genbank_Results)\n",
    "\n",
    "    for index,value in enumerate(Genbank_Results):\n",
    "        my_dict[index] = value  \n",
    "\n",
    "    print(my_dict)\n",
    "    myResponse = str(Genbank_Results)\n",
    "    #return JsonResponse( Genbank_Results, default=\"default_json\", safe=False)\n",
    "    return Genbank_Results\n",
    "\n",
    "CreateGenbankByAccNumber()"
   ]
  },
  {
   "cell_type": "code",
   "execution_count": null,
   "id": "coastal-vocabulary",
   "metadata": {},
   "outputs": [],
   "source": []
  },
  {
   "cell_type": "code",
   "execution_count": null,
   "id": "sweet-liverpool",
   "metadata": {},
   "outputs": [],
   "source": []
  },
  {
   "cell_type": "code",
   "execution_count": null,
   "id": "scenic-candy",
   "metadata": {},
   "outputs": [],
   "source": []
  },
  {
   "cell_type": "code",
   "execution_count": null,
   "id": "functioning-computer",
   "metadata": {},
   "outputs": [],
   "source": []
  }
 ],
 "metadata": {
  "kernelspec": {
   "display_name": "Python 3",
   "language": "python",
   "name": "python3"
  },
  "language_info": {
   "codemirror_mode": {
    "name": "ipython",
    "version": 3
   },
   "file_extension": ".py",
   "mimetype": "text/x-python",
   "name": "python",
   "nbconvert_exporter": "python",
   "pygments_lexer": "ipython3",
   "version": "3.9.1"
  }
 },
 "nbformat": 4,
 "nbformat_minor": 5
}
